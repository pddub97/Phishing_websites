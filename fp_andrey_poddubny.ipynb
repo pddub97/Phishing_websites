{
 "cells": [
  {
   "cell_type": "code",
   "execution_count": null,
   "metadata": {},
   "outputs": [],
   "source": [
    "# Detection of phishing websites it is really important problem, especially for people that are not so-called digital-natives.\n",
    "# Sometimes even young, but not so careful people can be deceived by fraudulent websites asking to send your login and password.\n",
    "# This makes a real chance for machine learning to show its full strength out of the problem. Solution can really ease people's \n",
    "# lifes, especially old people, that usually become a simple target for scammers"
   ]
  },
  {
   "cell_type": "code",
   "execution_count": null,
   "metadata": {},
   "outputs": [],
   "source": [
    "# Importing libraries, reading data"
   ]
  },
  {
   "cell_type": "code",
   "execution_count": 85,
   "metadata": {},
   "outputs": [],
   "source": [
    "import pandas as pd\n",
    "import numpy as np\n",
    "import matplotlib.pyplot as plt\n",
    "import seaborn as sns\n",
    "%matplotlib inline"
   ]
  },
  {
   "cell_type": "code",
   "execution_count": 86,
   "metadata": {},
   "outputs": [],
   "source": [
    "data=pd.read_csv('phpV5QYya.csv')\n",
    "pd.set_option('display.max_columns', 31)"
   ]
  },
  {
   "cell_type": "code",
   "execution_count": 87,
   "metadata": {},
   "outputs": [
    {
     "data": {
      "text/plain": [
       "(11055, 31)"
      ]
     },
     "execution_count": 87,
     "metadata": {},
     "output_type": "execute_result"
    }
   ],
   "source": [
    "data.shape"
   ]
  },
  {
   "cell_type": "code",
   "execution_count": null,
   "metadata": {},
   "outputs": [],
   "source": [
    "# Let's check how many missing values in our data"
   ]
  },
  {
   "cell_type": "code",
   "execution_count": 163,
   "metadata": {},
   "outputs": [
    {
     "data": {
      "text/plain": [
       "0"
      ]
     },
     "execution_count": 163,
     "metadata": {},
     "output_type": "execute_result"
    }
   ],
   "source": [
    "data.isnull().sum().sum()"
   ]
  },
  {
   "cell_type": "code",
   "execution_count": null,
   "metadata": {},
   "outputs": [],
   "source": [
    "# There are no missing values"
   ]
  },
  {
   "cell_type": "code",
   "execution_count": null,
   "metadata": {},
   "outputs": [],
   "source": [
    "# Let's look at our variables"
   ]
  },
  {
   "cell_type": "code",
   "execution_count": 88,
   "metadata": {},
   "outputs": [
    {
     "data": {
      "text/html": [
       "<div>\n",
       "<style scoped>\n",
       "    .dataframe tbody tr th:only-of-type {\n",
       "        vertical-align: middle;\n",
       "    }\n",
       "\n",
       "    .dataframe tbody tr th {\n",
       "        vertical-align: top;\n",
       "    }\n",
       "\n",
       "    .dataframe thead th {\n",
       "        text-align: right;\n",
       "    }\n",
       "</style>\n",
       "<table border=\"1\" class=\"dataframe\">\n",
       "  <thead>\n",
       "    <tr style=\"text-align: right;\">\n",
       "      <th></th>\n",
       "      <th>having_IP_Address</th>\n",
       "      <th>URL_Length</th>\n",
       "      <th>Shortining_Service</th>\n",
       "      <th>having_At_Symbol</th>\n",
       "      <th>double_slash_redirecting</th>\n",
       "      <th>Prefix_Suffix</th>\n",
       "      <th>having_Sub_Domain</th>\n",
       "      <th>SSLfinal_State</th>\n",
       "      <th>Domain_registeration_length</th>\n",
       "      <th>Favicon</th>\n",
       "      <th>port</th>\n",
       "      <th>HTTPS_token</th>\n",
       "      <th>Request_URL</th>\n",
       "      <th>URL_of_Anchor</th>\n",
       "      <th>Links_in_tags</th>\n",
       "      <th>SFH</th>\n",
       "      <th>Submitting_to_email</th>\n",
       "      <th>Abnormal_URL</th>\n",
       "      <th>Redirect</th>\n",
       "      <th>on_mouseover</th>\n",
       "      <th>RightClick</th>\n",
       "      <th>popUpWidnow</th>\n",
       "      <th>Iframe</th>\n",
       "      <th>age_of_domain</th>\n",
       "      <th>DNSRecord</th>\n",
       "      <th>web_traffic</th>\n",
       "      <th>Page_Rank</th>\n",
       "      <th>Google_Index</th>\n",
       "      <th>Links_pointing_to_page</th>\n",
       "      <th>Statistical_report</th>\n",
       "      <th>Result</th>\n",
       "    </tr>\n",
       "  </thead>\n",
       "  <tbody>\n",
       "    <tr>\n",
       "      <th>0</th>\n",
       "      <td>-1</td>\n",
       "      <td>1</td>\n",
       "      <td>1</td>\n",
       "      <td>1</td>\n",
       "      <td>-1</td>\n",
       "      <td>-1</td>\n",
       "      <td>-1</td>\n",
       "      <td>-1</td>\n",
       "      <td>-1</td>\n",
       "      <td>1</td>\n",
       "      <td>1</td>\n",
       "      <td>-1</td>\n",
       "      <td>1</td>\n",
       "      <td>-1</td>\n",
       "      <td>1</td>\n",
       "      <td>-1</td>\n",
       "      <td>-1</td>\n",
       "      <td>-1</td>\n",
       "      <td>0</td>\n",
       "      <td>1</td>\n",
       "      <td>1</td>\n",
       "      <td>1</td>\n",
       "      <td>1</td>\n",
       "      <td>-1</td>\n",
       "      <td>-1</td>\n",
       "      <td>-1</td>\n",
       "      <td>-1</td>\n",
       "      <td>1</td>\n",
       "      <td>1</td>\n",
       "      <td>-1</td>\n",
       "      <td>-1</td>\n",
       "    </tr>\n",
       "    <tr>\n",
       "      <th>1</th>\n",
       "      <td>1</td>\n",
       "      <td>1</td>\n",
       "      <td>1</td>\n",
       "      <td>1</td>\n",
       "      <td>1</td>\n",
       "      <td>-1</td>\n",
       "      <td>0</td>\n",
       "      <td>1</td>\n",
       "      <td>-1</td>\n",
       "      <td>1</td>\n",
       "      <td>1</td>\n",
       "      <td>-1</td>\n",
       "      <td>1</td>\n",
       "      <td>0</td>\n",
       "      <td>-1</td>\n",
       "      <td>-1</td>\n",
       "      <td>1</td>\n",
       "      <td>1</td>\n",
       "      <td>0</td>\n",
       "      <td>1</td>\n",
       "      <td>1</td>\n",
       "      <td>1</td>\n",
       "      <td>1</td>\n",
       "      <td>-1</td>\n",
       "      <td>-1</td>\n",
       "      <td>0</td>\n",
       "      <td>-1</td>\n",
       "      <td>1</td>\n",
       "      <td>1</td>\n",
       "      <td>1</td>\n",
       "      <td>-1</td>\n",
       "    </tr>\n",
       "    <tr>\n",
       "      <th>2</th>\n",
       "      <td>1</td>\n",
       "      <td>0</td>\n",
       "      <td>1</td>\n",
       "      <td>1</td>\n",
       "      <td>1</td>\n",
       "      <td>-1</td>\n",
       "      <td>-1</td>\n",
       "      <td>-1</td>\n",
       "      <td>-1</td>\n",
       "      <td>1</td>\n",
       "      <td>1</td>\n",
       "      <td>-1</td>\n",
       "      <td>1</td>\n",
       "      <td>0</td>\n",
       "      <td>-1</td>\n",
       "      <td>-1</td>\n",
       "      <td>-1</td>\n",
       "      <td>-1</td>\n",
       "      <td>0</td>\n",
       "      <td>1</td>\n",
       "      <td>1</td>\n",
       "      <td>1</td>\n",
       "      <td>1</td>\n",
       "      <td>1</td>\n",
       "      <td>-1</td>\n",
       "      <td>1</td>\n",
       "      <td>-1</td>\n",
       "      <td>1</td>\n",
       "      <td>0</td>\n",
       "      <td>-1</td>\n",
       "      <td>-1</td>\n",
       "    </tr>\n",
       "    <tr>\n",
       "      <th>3</th>\n",
       "      <td>1</td>\n",
       "      <td>0</td>\n",
       "      <td>1</td>\n",
       "      <td>1</td>\n",
       "      <td>1</td>\n",
       "      <td>-1</td>\n",
       "      <td>-1</td>\n",
       "      <td>-1</td>\n",
       "      <td>1</td>\n",
       "      <td>1</td>\n",
       "      <td>1</td>\n",
       "      <td>-1</td>\n",
       "      <td>-1</td>\n",
       "      <td>0</td>\n",
       "      <td>0</td>\n",
       "      <td>-1</td>\n",
       "      <td>1</td>\n",
       "      <td>1</td>\n",
       "      <td>0</td>\n",
       "      <td>1</td>\n",
       "      <td>1</td>\n",
       "      <td>1</td>\n",
       "      <td>1</td>\n",
       "      <td>-1</td>\n",
       "      <td>-1</td>\n",
       "      <td>1</td>\n",
       "      <td>-1</td>\n",
       "      <td>1</td>\n",
       "      <td>-1</td>\n",
       "      <td>1</td>\n",
       "      <td>-1</td>\n",
       "    </tr>\n",
       "    <tr>\n",
       "      <th>4</th>\n",
       "      <td>1</td>\n",
       "      <td>0</td>\n",
       "      <td>-1</td>\n",
       "      <td>1</td>\n",
       "      <td>1</td>\n",
       "      <td>-1</td>\n",
       "      <td>1</td>\n",
       "      <td>1</td>\n",
       "      <td>-1</td>\n",
       "      <td>1</td>\n",
       "      <td>1</td>\n",
       "      <td>1</td>\n",
       "      <td>1</td>\n",
       "      <td>0</td>\n",
       "      <td>0</td>\n",
       "      <td>-1</td>\n",
       "      <td>1</td>\n",
       "      <td>1</td>\n",
       "      <td>0</td>\n",
       "      <td>-1</td>\n",
       "      <td>1</td>\n",
       "      <td>-1</td>\n",
       "      <td>1</td>\n",
       "      <td>-1</td>\n",
       "      <td>-1</td>\n",
       "      <td>0</td>\n",
       "      <td>-1</td>\n",
       "      <td>1</td>\n",
       "      <td>1</td>\n",
       "      <td>1</td>\n",
       "      <td>1</td>\n",
       "    </tr>\n",
       "  </tbody>\n",
       "</table>\n",
       "</div>"
      ],
      "text/plain": [
       "   having_IP_Address  URL_Length  Shortining_Service  having_At_Symbol  \\\n",
       "0                 -1           1                   1                 1   \n",
       "1                  1           1                   1                 1   \n",
       "2                  1           0                   1                 1   \n",
       "3                  1           0                   1                 1   \n",
       "4                  1           0                  -1                 1   \n",
       "\n",
       "   double_slash_redirecting  Prefix_Suffix  having_Sub_Domain  SSLfinal_State  \\\n",
       "0                        -1             -1                 -1              -1   \n",
       "1                         1             -1                  0               1   \n",
       "2                         1             -1                 -1              -1   \n",
       "3                         1             -1                 -1              -1   \n",
       "4                         1             -1                  1               1   \n",
       "\n",
       "   Domain_registeration_length  Favicon  port  HTTPS_token  Request_URL  \\\n",
       "0                           -1        1     1           -1            1   \n",
       "1                           -1        1     1           -1            1   \n",
       "2                           -1        1     1           -1            1   \n",
       "3                            1        1     1           -1           -1   \n",
       "4                           -1        1     1            1            1   \n",
       "\n",
       "   URL_of_Anchor  Links_in_tags  SFH  Submitting_to_email  Abnormal_URL  \\\n",
       "0             -1              1   -1                   -1            -1   \n",
       "1              0             -1   -1                    1             1   \n",
       "2              0             -1   -1                   -1            -1   \n",
       "3              0              0   -1                    1             1   \n",
       "4              0              0   -1                    1             1   \n",
       "\n",
       "   Redirect  on_mouseover  RightClick  popUpWidnow  Iframe  age_of_domain  \\\n",
       "0         0             1           1            1       1             -1   \n",
       "1         0             1           1            1       1             -1   \n",
       "2         0             1           1            1       1              1   \n",
       "3         0             1           1            1       1             -1   \n",
       "4         0            -1           1           -1       1             -1   \n",
       "\n",
       "   DNSRecord  web_traffic  Page_Rank  Google_Index  Links_pointing_to_page  \\\n",
       "0         -1           -1         -1             1                       1   \n",
       "1         -1            0         -1             1                       1   \n",
       "2         -1            1         -1             1                       0   \n",
       "3         -1            1         -1             1                      -1   \n",
       "4         -1            0         -1             1                       1   \n",
       "\n",
       "   Statistical_report  Result  \n",
       "0                  -1      -1  \n",
       "1                   1      -1  \n",
       "2                  -1      -1  \n",
       "3                   1      -1  \n",
       "4                   1       1  "
      ]
     },
     "execution_count": 88,
     "metadata": {},
     "output_type": "execute_result"
    }
   ],
   "source": [
    "data.head()"
   ]
  },
  {
   "cell_type": "code",
   "execution_count": null,
   "metadata": {},
   "outputs": [],
   "source": [
    "# As we can see, all of our variable are already encoded categorical and almost all are binary, that means there is no need\n",
    "# in neither encoding nor scale them. We won't scale non-binary since the scale of them and binary ones is very close and will\n",
    "# not give us sugnificant gain in scores"
   ]
  },
  {
   "cell_type": "code",
   "execution_count": null,
   "metadata": {},
   "outputs": [],
   "source": [
    "# Let's check how balanced our data"
   ]
  },
  {
   "cell_type": "code",
   "execution_count": 89,
   "metadata": {},
   "outputs": [
    {
     "name": "stdout",
     "output_type": "stream",
     "text": [
      "6157\n",
      "4898\n"
     ]
    }
   ],
   "source": [
    "print(data.Result[data.Result==1].count())\n",
    "print(data.Result[data.Result==-1].count())"
   ]
  },
  {
   "cell_type": "code",
   "execution_count": null,
   "metadata": {},
   "outputs": [],
   "source": [
    "# The proportion is close to 50/50, so data is well-balanced"
   ]
  },
  {
   "cell_type": "code",
   "execution_count": 90,
   "metadata": {},
   "outputs": [],
   "source": [
    "X=data.drop('Result', axis=1)\n",
    "y=data.Result"
   ]
  },
  {
   "cell_type": "code",
   "execution_count": 91,
   "metadata": {},
   "outputs": [],
   "source": [
    "# Let's look at how the age of a domain may indicate whether it is phishing or not"
   ]
  },
  {
   "cell_type": "code",
   "execution_count": 92,
   "metadata": {},
   "outputs": [
    {
     "data": {
      "text/plain": [
       "Text(0.5, 1.0, 'How the age of domain can indicate phishing website')"
      ]
     },
     "execution_count": 92,
     "metadata": {},
     "output_type": "execute_result"
    },
    {
     "data": {
      "image/png": "[encoded data removed]",
      "text/plain": [
       "<Figure size 432x288 with 1 Axes>"
      ]
     },
     "metadata": {
      "needs_background": "light"
     },
     "output_type": "display_data"
    }
   ],
   "source": [
    "age=[]\n",
    "for i in range(0,data[\"age_of_domain\"].shape[0]):\n",
    "    if data[\"age_of_domain\"][i]==-1:\n",
    "        age=age+['Less than 6 months']\n",
    "    else:\n",
    "        age=age+['More than 6 months']\n",
    "result=[]\n",
    "for i in range(0,data['Result'].shape[0]):\n",
    "    if data['Result'][i]==-1:\n",
    "        result=result+['Phishing']\n",
    "    else:\n",
    "        result=result+['Legitimate']\n",
    "\n",
    "\n",
    "ax = sns.countplot(x=age, hue=result)\n",
    "plt.title('How the age of domain can indicate phishing website')"
   ]
  },
  {
   "cell_type": "code",
   "execution_count": 93,
   "metadata": {},
   "outputs": [],
   "source": [
    "# Left columns (-1) is a case when domain exists less than 6 months, right - if more. Result -1 means that site is phishing.\n",
    "# It is clearly seen that from among young domains there are more of fraudulent than among old domains."
   ]
  },
  {
   "cell_type": "code",
   "execution_count": 94,
   "metadata": {},
   "outputs": [],
   "source": [
    "# Let's look at how web traffic may indicate whether it is phishing or not"
   ]
  },
  {
   "cell_type": "code",
   "execution_count": 95,
   "metadata": {},
   "outputs": [
    {
     "data": {
      "text/plain": [
       "Text(0.5, 1.0, 'How the web traffic can indicate phishing website')"
      ]
     },
     "execution_count": 95,
     "metadata": {},
     "output_type": "execute_result"
    },
    {
     "data": {
      "image/png": "[encoded data removed]",
      "text/plain": [
       "<Figure size 432x288 with 1 Axes>"
      ]
     },
     "metadata": {
      "needs_background": "light"
     },
     "output_type": "display_data"
    }
   ],
   "source": [
    "traffic=[]\n",
    "for i in range(0,data[\"web_traffic\"].shape[0]):\n",
    "    if data[\"web_traffic\"][i]==-1:\n",
    "        traffic=traffic+['Not known by Alexa']\n",
    "    elif data[\"web_traffic\"][i]==0:\n",
    "        traffic=traffic+['Rank < 100000']\n",
    "    elif data[\"web_traffic\"][i]==1:\n",
    "        traffic=traffic+['Rank > 100000']\n",
    "ax = sns.countplot(x=traffic, hue=result)\n",
    "plt.title('How the web traffic can indicate phishing website')\n"
   ]
  },
  {
   "cell_type": "code",
   "execution_count": null,
   "metadata": {},
   "outputs": [],
   "source": [
    "# We can see, that the less site visited the more probability for it to be a phishing site"
   ]
  },
  {
   "cell_type": "code",
   "execution_count": null,
   "metadata": {},
   "outputs": [],
   "source": [
    "# Let's train some models to predict whether site is phishing or not"
   ]
  },
  {
   "cell_type": "code",
   "execution_count": null,
   "metadata": {},
   "outputs": [],
   "source": [
    "# Splitting data to train and test (without stratifying, our data is balanced)"
   ]
  },
  {
   "cell_type": "code",
   "execution_count": 96,
   "metadata": {},
   "outputs": [],
   "source": [
    "from sklearn.linear_model import LogisticRegression\n",
    "from sklearn.metrics import precision_score, recall_score, f1_score, roc_auc_score, accuracy_score, make_scorer,auc\n",
    "from sklearn.model_selection import train_test_split, GridSearchCV, KFold\n",
    "X_train, X_test, y_train, y_test = train_test_split(X, y, test_size=0.25, random_state=42, stratify=y)\n"
   ]
  },
  {
   "cell_type": "code",
   "execution_count": null,
   "metadata": {},
   "outputs": [],
   "source": [
    "# For any further modeling assume Accuracy as a measure of quality, and we will use usual KFold, as our target variable is\n",
    "# balanced. I will also calculate Precision, Recall, F1 and roc_auc to confirm that my choice was right."
   ]
  },
  {
   "cell_type": "code",
   "execution_count": 97,
   "metadata": {},
   "outputs": [],
   "source": [
    "# Logistic Regression"
   ]
  },
  {
   "cell_type": "code",
   "execution_count": 98,
   "metadata": {},
   "outputs": [],
   "source": [
    "\n",
    "logreg=LogisticRegression(solver='liblinear')\n",
    "parameters = {}\n",
    "parameters['penalty'] = ['l1', 'l2']\n",
    "parameters['C'] = [10**x for x in range(-7,7)]\n",
    "\n",
    "scoring = {'AUC': 'roc_auc', 'Accuracy': make_scorer(accuracy_score), 'Precision': make_scorer(precision_score), \\\n",
    "'Recall': make_scorer(recall_score), 'F1': make_scorer(f1_score)}\n",
    "\n",
    "cv = KFold(n_splits=3, shuffle=True, random_state=5)\n",
    "\n",
    "gs = GridSearchCV(estimator=logreg,\n",
    "                          param_grid=parameters,\n",
    "                          cv=cv,\n",
    "                          scoring=scoring,\n",
    "                          n_jobs=-1, refit='Accuracy')"
   ]
  },
  {
   "cell_type": "code",
   "execution_count": 99,
   "metadata": {},
   "outputs": [
    {
     "data": {
      "text/plain": [
       "GridSearchCV(cv=KFold(n_splits=3, random_state=5, shuffle=True),\n",
       "             error_score='raise-deprecating',\n",
       "             estimator=LogisticRegression(C=1.0, class_weight=None, dual=False,\n",
       "                                          fit_intercept=True,\n",
       "                                          intercept_scaling=1, l1_ratio=None,\n",
       "                                          max_iter=100, multi_class='warn',\n",
       "                                          n_jobs=None, penalty='l2',\n",
       "                                          random_state=None, solver='liblinear',\n",
       "                                          tol=0.0001, verbose=0,\n",
       "                                          warm_start=False),\n",
       "             iid='w...\n",
       "             param_grid={'C': [1e-07, 1e-06, 1e-05, 0.0001, 0.001, 0.01, 0.1, 1,\n",
       "                               10, 100, 1000, 10000, 100000, 1000000],\n",
       "                         'penalty': ['l1', 'l2']},\n",
       "             pre_dispatch='2*n_jobs', refit='Accuracy',\n",
       "             return_train_score=False,\n",
       "             scoring={'AUC': 'roc_auc', 'Accuracy': make_scorer(accuracy_score),\n",
       "                      'F1': make_scorer(f1_score),\n",
       "                      'Precision': make_scorer(precision_score),\n",
       "                      'Recall': make_scorer(recall_score)},\n",
       "             verbose=0)"
      ]
     },
     "execution_count": 99,
     "metadata": {},
     "output_type": "execute_result"
    }
   ],
   "source": [
    "gs.fit(X_train, y_train)"
   ]
  },
  {
   "cell_type": "code",
   "execution_count": 126,
   "metadata": {},
   "outputs": [
    {
     "name": "stdout",
     "output_type": "stream",
     "text": [
      "Best parameters are: {'C': 0.1, 'penalty': 'l2'}\n",
      "Accuracy on train set: 0.9265468580388373\n",
      "Accuracy on test set: 0.9323444283646889\n"
     ]
    }
   ],
   "source": [
    "y_test_pred=gs.predict(X_test)\n",
    "print('Best parameters are:', gs.best_params_)\n",
    "print('Accuracy on train set:', gs.best_score_)\n",
    "print('Accuracy on test set:' ,accuracy_score(y_test_pred, y_test))"
   ]
  },
  {
   "cell_type": "code",
   "execution_count": 101,
   "metadata": {
    "slideshow": {
     "slide_type": "-"
    }
   },
   "outputs": [
    {
     "name": "stdout",
     "output_type": "stream",
     "text": [
      "              score\n",
      "AUC        0.976819\n",
      "Accuracy   0.926547\n",
      "Precision  0.924041\n",
      "Recall     0.945738\n",
      "F1         0.934730\n"
     ]
    }
   ],
   "source": [
    "result_scores=pd.DataFrame([gs.cv_results_['mean_test_AUC'][gs.best_index_],gs.cv_results_['mean_test_Accuracy'][gs.best_index_],\\\n",
    "gs.cv_results_['mean_test_Precision'][gs.best_index_],gs.cv_results_['mean_test_Recall'][gs.best_index_],\\\n",
    "gs.cv_results_['mean_test_F1'][gs.best_index_]])\n",
    "result_scores.index=['AUC','Accuracy','Precision','Recall','F1']\n",
    "result_scores.columns=['score']\n",
    "print(result_scores)"
   ]
  },
  {
   "cell_type": "code",
   "execution_count": 103,
   "metadata": {},
   "outputs": [],
   "source": [
    "# Decision Tree Classifier"
   ]
  },
  {
   "cell_type": "code",
   "execution_count": 104,
   "metadata": {},
   "outputs": [],
   "source": [
    "from sklearn.tree import DecisionTreeClassifier"
   ]
  },
  {
   "cell_type": "code",
   "execution_count": 105,
   "metadata": {},
   "outputs": [],
   "source": [
    "dtc=DecisionTreeClassifier()\n",
    "parameters = {}\n",
    "parameters['max_depth'] = range(1,40)\n",
    "\n",
    "gs_dtc = GridSearchCV(estimator=dtc,\n",
    "                          param_grid=parameters,\n",
    "                          cv=cv,\n",
    "                          scoring=scoring,\n",
    "                          n_jobs=-1, refit='Accuracy')"
   ]
  },
  {
   "cell_type": "code",
   "execution_count": 106,
   "metadata": {},
   "outputs": [
    {
     "data": {
      "text/plain": [
       "GridSearchCV(cv=KFold(n_splits=3, random_state=5, shuffle=True),\n",
       "             error_score='raise-deprecating',\n",
       "             estimator=DecisionTreeClassifier(class_weight=None,\n",
       "                                              criterion='gini', max_depth=None,\n",
       "                                              max_features=None,\n",
       "                                              max_leaf_nodes=None,\n",
       "                                              min_impurity_decrease=0.0,\n",
       "                                              min_impurity_split=None,\n",
       "                                              min_samples_leaf=1,\n",
       "                                              min_samples_split=2,\n",
       "                                              min_weight_fraction_leaf=0.0,\n",
       "                                              presort=False, random_state=None,\n",
       "                                              splitter='best'),\n",
       "             iid='warn', n_jobs=-1, param_grid={'max_depth': range(1, 40)},\n",
       "             pre_dispatch='2*n_jobs', refit='Accuracy',\n",
       "             return_train_score=False,\n",
       "             scoring={'AUC': 'roc_auc', 'Accuracy': make_scorer(accuracy_score),\n",
       "                      'F1': make_scorer(f1_score),\n",
       "                      'Precision': make_scorer(precision_score),\n",
       "                      'Recall': make_scorer(recall_score)},\n",
       "             verbose=0)"
      ]
     },
     "execution_count": 106,
     "metadata": {},
     "output_type": "execute_result"
    }
   ],
   "source": [
    "gs_dtc.fit(X_train, y_train)"
   ]
  },
  {
   "cell_type": "code",
   "execution_count": 125,
   "metadata": {},
   "outputs": [
    {
     "name": "stdout",
     "output_type": "stream",
     "text": [
      "Best parameters are: {'max_depth': 21}\n",
      "Accuracy on train set: 0.9560969726209142\n",
      "Accuracy on test set: 0.9638205499276411\n"
     ]
    }
   ],
   "source": [
    "y_test_pred=gs_dtc.predict(X_test)\n",
    "print('Best parameters are:', gs_dtc.best_params_)\n",
    "print('Accuracy on train set:', gs_dtc.best_score_)\n",
    "print('Accuracy on test set:' ,accuracy_score(y_test_pred, y_test))"
   ]
  },
  {
   "cell_type": "code",
   "execution_count": 108,
   "metadata": {},
   "outputs": [
    {
     "name": "stdout",
     "output_type": "stream",
     "text": [
      "              score\n",
      "AUC        0.962621\n",
      "Accuracy   0.956097\n",
      "Precision  0.956413\n",
      "Recall     0.965172\n",
      "F1         0.960763\n"
     ]
    }
   ],
   "source": [
    "result_scores_dtc=pd.DataFrame([gs_dtc.cv_results_['mean_test_AUC'][gs_dtc.best_index_],gs_dtc.cv_results_['mean_test_Accuracy'][gs_dtc.best_index_],\\\n",
    "gs_dtc.cv_results_['mean_test_Precision'][gs_dtc.best_index_],gs_dtc.cv_results_['mean_test_Recall'][gs_dtc.best_index_],\\\n",
    "gs_dtc.cv_results_['mean_test_F1'][gs_dtc.best_index_]])\n",
    "result_scores_dtc.index=['AUC','Accuracy','Precision','Recall','F1']\n",
    "result_scores_dtc.columns=['score']\n",
    "print(result_scores_dtc)"
   ]
  },
  {
   "cell_type": "code",
   "execution_count": 110,
   "metadata": {},
   "outputs": [],
   "source": [
    "# Random Forest"
   ]
  },
  {
   "cell_type": "code",
   "execution_count": 111,
   "metadata": {},
   "outputs": [],
   "source": [
    "from xgboost import XGBClassifier\n",
    "from sklearn.ensemble import RandomForestClassifier"
   ]
  },
  {
   "cell_type": "code",
   "execution_count": 112,
   "metadata": {},
   "outputs": [],
   "source": [
    "rfc=RandomForestClassifier()\n",
    "parameters = {}\n",
    "parameters['max_depth'] = range(1,40)\n",
    "parameters['n_estimators'] = range(1,30)\n",
    "\n",
    "gs_rfc = GridSearchCV(estimator=rfc,\n",
    "                          param_grid=parameters,\n",
    "                          cv=cv,\n",
    "                          scoring=scoring,\n",
    "                          n_jobs=-1, refit='Accuracy')"
   ]
  },
  {
   "cell_type": "code",
   "execution_count": 113,
   "metadata": {},
   "outputs": [
    {
     "data": {
      "text/plain": [
       "GridSearchCV(cv=KFold(n_splits=3, random_state=5, shuffle=True),\n",
       "             error_score='raise-deprecating',\n",
       "             estimator=RandomForestClassifier(bootstrap=True, class_weight=None,\n",
       "                                              criterion='gini', max_depth=None,\n",
       "                                              max_features='auto',\n",
       "                                              max_leaf_nodes=None,\n",
       "                                              min_impurity_decrease=0.0,\n",
       "                                              min_impurity_split=None,\n",
       "                                              min_samples_leaf=1,\n",
       "                                              min_samples_split=2,\n",
       "                                              min_weight_fraction_leaf=0.0,...\n",
       "                                              random_state=None, verbose=0,\n",
       "                                              warm_start=False),\n",
       "             iid='warn', n_jobs=-1,\n",
       "             param_grid={'max_depth': range(1, 40),\n",
       "                         'n_estimators': range(1, 30)},\n",
       "             pre_dispatch='2*n_jobs', refit='Accuracy',\n",
       "             return_train_score=False,\n",
       "             scoring={'AUC': 'roc_auc', 'Accuracy': make_scorer(accuracy_score),\n",
       "                      'F1': make_scorer(f1_score),\n",
       "                      'Precision': make_scorer(precision_score),\n",
       "                      'Recall': make_scorer(recall_score)},\n",
       "             verbose=0)"
      ]
     },
     "execution_count": 113,
     "metadata": {},
     "output_type": "execute_result"
    }
   ],
   "source": [
    "gs_rfc.fit(X_train, y_train)"
   ]
  },
  {
   "cell_type": "code",
   "execution_count": 123,
   "metadata": {},
   "outputs": [
    {
     "name": "stdout",
     "output_type": "stream",
     "text": [
      "Best parameters are: {'max_depth': 33, 'n_estimators': 24}\n",
      "Accuracy on training set: 0.969123145579544\n",
      "Accuracy on test set: 0.9761215629522432\n"
     ]
    }
   ],
   "source": [
    "y_test_pred=gs_rfc.predict(X_test)\n",
    "print('Best parameters are:', gs_rfc.best_params_)\n",
    "print('Accuracy on train set:', gs_rfc.best_score_)\n",
    "print('Accuracy on test set:' ,accuracy_score(y_test_pred, y_test))"
   ]
  },
  {
   "cell_type": "code",
   "execution_count": 115,
   "metadata": {},
   "outputs": [
    {
     "name": "stdout",
     "output_type": "stream",
     "text": [
      "              score\n",
      "AUC        0.992602\n",
      "Accuracy   0.969123\n",
      "Precision  0.965010\n",
      "Recall     0.980064\n",
      "F1         0.972476\n"
     ]
    }
   ],
   "source": [
    "result_scores_rfc=pd.DataFrame([gs_rfc.cv_results_['mean_test_AUC'][gs_rfc.best_index_],gs_rfc.cv_results_['mean_test_Accuracy'][gs_rfc.best_index_],\\\n",
    "gs_rfc.cv_results_['mean_test_Precision'][gs_rfc.best_index_],gs_rfc.cv_results_['mean_test_Recall'][gs_rfc.best_index_],\\\n",
    "gs_rfc.cv_results_['mean_test_F1'][gs_rfc.best_index_]])\n",
    "result_scores_rfc.index=['AUC','Accuracy','Precision','Recall','F1']\n",
    "result_scores_rfc.columns=['score']\n",
    "print(result_scores_rfc)\n"
   ]
  },
  {
   "cell_type": "code",
   "execution_count": 117,
   "metadata": {},
   "outputs": [],
   "source": [
    "# XGBClassifier"
   ]
  },
  {
   "cell_type": "code",
   "execution_count": 118,
   "metadata": {},
   "outputs": [],
   "source": [
    "xgbc=XGBClassifier()\n",
    "parameters = {}\n",
    "parameters['max_depth'] = range(1,20)\n",
    "parameters['n_estimators'] = range(1,30)\n",
    "\n",
    "gs_xgbc = GridSearchCV(estimator=xgbc,\n",
    "                          param_grid=parameters,\n",
    "                          cv=cv,\n",
    "                          scoring=scoring,\n",
    "                          n_jobs=-1, refit='Accuracy')"
   ]
  },
  {
   "cell_type": "code",
   "execution_count": 119,
   "metadata": {},
   "outputs": [
    {
     "data": {
      "text/plain": [
       "GridSearchCV(cv=KFold(n_splits=3, random_state=5, shuffle=True),\n",
       "             error_score='raise-deprecating',\n",
       "             estimator=XGBClassifier(base_score=0.5, booster='gbtree',\n",
       "                                     colsample_bylevel=1, colsample_bynode=1,\n",
       "                                     colsample_bytree=1, gamma=0,\n",
       "                                     learning_rate=0.1, max_delta_step=0,\n",
       "                                     max_depth=3, min_child_weight=1,\n",
       "                                     missing=None, n_estimators=100, n_jobs=1,\n",
       "                                     nthread=None, objective='binar...\n",
       "                                     subsample=1, verbosity=1),\n",
       "             iid='warn', n_jobs=-1,\n",
       "             param_grid={'max_depth': range(1, 20),\n",
       "                         'n_estimators': range(1, 30)},\n",
       "             pre_dispatch='2*n_jobs', refit='Accuracy',\n",
       "             return_train_score=False,\n",
       "             scoring={'AUC': 'roc_auc', 'Accuracy': make_scorer(accuracy_score),\n",
       "                      'F1': make_scorer(f1_score),\n",
       "                      'Precision': make_scorer(precision_score),\n",
       "                      'Recall': make_scorer(recall_score)},\n",
       "             verbose=0)"
      ]
     },
     "execution_count": 119,
     "metadata": {},
     "output_type": "execute_result"
    }
   ],
   "source": [
    "gs_xgbc.fit(X_train, y_train)"
   ]
  },
  {
   "cell_type": "code",
   "execution_count": 124,
   "metadata": {},
   "outputs": [
    {
     "name": "stdout",
     "output_type": "stream",
     "text": [
      "Best parameters are: {'max_depth': 18, 'n_estimators': 29}\n",
      "Accuracy on train set:: 0.9594741285731516\n",
      "Accuracy on train set: 0.9696092619392185\n"
     ]
    }
   ],
   "source": [
    "y_test_pred=gs_xgbc.predict(X_test)\n",
    "print('Best parameters are:', gs_xgbc.best_params_)\n",
    "print('Accuracy on train set::', gs_xgbc.best_score_)\n",
    "print('Accuracy on train set:' ,accuracy_score(y_test_pred, y_test))"
   ]
  },
  {
   "cell_type": "code",
   "execution_count": 121,
   "metadata": {},
   "outputs": [
    {
     "name": "stdout",
     "output_type": "stream",
     "text": [
      "              score\n",
      "AUC        0.992690\n",
      "Accuracy   0.959474\n",
      "Precision  0.958439\n",
      "Recall     0.969249\n",
      "F1         0.963812\n"
     ]
    }
   ],
   "source": [
    "result_scores_xgbc=pd.DataFrame([gs_xgbc.cv_results_['mean_test_AUC'][gs_xgbc.best_index_],gs_xgbc.cv_results_['mean_test_Accuracy'][gs_xgbc.best_index_],\\\n",
    "gs_xgbc.cv_results_['mean_test_Precision'][gs_xgbc.best_index_],gs_xgbc.cv_results_['mean_test_Recall'][gs_xgbc.best_index_],\\\n",
    "gs_xgbc.cv_results_['mean_test_F1'][gs_xgbc.best_index_]])\n",
    "result_scores_xgbc.index=['AUC','Accuracy','Precision','Recall','F1']\n",
    "result_scores_xgbc.columns=['score']\n",
    "print(result_scores_xgbc)"
   ]
  },
  {
   "cell_type": "code",
   "execution_count": null,
   "metadata": {},
   "outputs": [],
   "source": [
    "# Let's create Max_depth-Score dependancy for the best cassifier"
   ]
  },
  {
   "cell_type": "code",
   "execution_count": 149,
   "metadata": {},
   "outputs": [],
   "source": [
    "rfc=RandomForestClassifier(n_estimators=24)\n",
    "parameters = {}\n",
    "parameters['max_depth'] = range(1,60)\n",
    "\n",
    "gs_rfc = GridSearchCV(estimator=rfc,\n",
    "                          param_grid=parameters,\n",
    "                          cv=cv,\n",
    "                          scoring=scoring,\n",
    "                          n_jobs=-1, refit='Accuracy')"
   ]
  },
  {
   "cell_type": "code",
   "execution_count": 150,
   "metadata": {},
   "outputs": [
    {
     "data": {
      "text/plain": [
       "GridSearchCV(cv=KFold(n_splits=3, random_state=5, shuffle=True),\n",
       "             error_score='raise-deprecating',\n",
       "             estimator=RandomForestClassifier(bootstrap=True, class_weight=None,\n",
       "                                              criterion='gini', max_depth=None,\n",
       "                                              max_features='auto',\n",
       "                                              max_leaf_nodes=None,\n",
       "                                              min_impurity_decrease=0.0,\n",
       "                                              min_impurity_split=None,\n",
       "                                              min_samples_leaf=1,\n",
       "                                              min_samples_split=2,\n",
       "                                              min_weight_fraction_leaf=0.0,...\n",
       "                                              oob_score=False,\n",
       "                                              random_state=None, verbose=0,\n",
       "                                              warm_start=False),\n",
       "             iid='warn', n_jobs=-1, param_grid={'max_depth': range(1, 60)},\n",
       "             pre_dispatch='2*n_jobs', refit='Accuracy',\n",
       "             return_train_score=False,\n",
       "             scoring={'AUC': 'roc_auc', 'Accuracy': make_scorer(accuracy_score),\n",
       "                      'F1': make_scorer(f1_score),\n",
       "                      'Precision': make_scorer(precision_score),\n",
       "                      'Recall': make_scorer(recall_score)},\n",
       "             verbose=0)"
      ]
     },
     "execution_count": 150,
     "metadata": {},
     "output_type": "execute_result"
    }
   ],
   "source": [
    "gs_rfc.fit(X_train, y_train)"
   ]
  },
  {
   "cell_type": "code",
   "execution_count": 154,
   "metadata": {},
   "outputs": [
    {
     "data": {
      "text/plain": [
       "Text(0.5, 1.0, 'How maximum depth of a tree influences Accuracy')"
      ]
     },
     "execution_count": 154,
     "metadata": {},
     "output_type": "execute_result"
    },
    {
     "data": {
      "image/png": "[encoded data removed]",
      "text/plain": [
       "<Figure size 432x288 with 1 Axes>"
      ]
     },
     "metadata": {
      "needs_background": "light"
     },
     "output_type": "display_data"
    }
   ],
   "source": [
    "sns.lineplot(x=range(1,60), y=gs_rfc.cv_results_['mean_test_Accuracy'])\n",
    "plt.xlabel('Max depth')\n",
    "plt.ylabel('Accuracy')\n",
    "plt.title('How maximum depth of a tree influences Accuracy')"
   ]
  },
  {
   "cell_type": "code",
   "execution_count": null,
   "metadata": {},
   "outputs": [],
   "source": [
    "# Let's look ar precision recall cureve"
   ]
  },
  {
   "cell_type": "code",
   "execution_count": 156,
   "metadata": {},
   "outputs": [
    {
     "name": "stdout",
     "output_type": "stream",
     "text": [
      "XGB: f1=0.973\n",
      "Logistic: f1=0.940\n",
      "DTC: f1=0.968\n",
      "RFC: f1=0.976\n"
     ]
    },
    {
     "data": {
      "image/png": "[encoded data removed]",
      "text/plain": [
       "<Figure size 432x288 with 1 Axes>"
      ]
     },
     "metadata": {
      "needs_background": "light"
     },
     "output_type": "display_data"
    }
   ],
   "source": [
    "from sklearn.metrics import precision_recall_curve\n",
    "# predict probabilities\n",
    "xgbc_probs = gs_xgbc.predict_proba(X_test)\n",
    "lr_probs = gs.predict_proba(X_test)\n",
    "dtc_probs = gs_dtc.predict_proba(X_test)\n",
    "rfc_probs = gs_rfc.predict_proba(X_test)\n",
    "xgbc_probs = xgbc_probs[:, 1]\n",
    "lr_probs = lr_probs[:, 1]\n",
    "dtc_probs = dtc_probs[:, 1]\n",
    "rfc_probs = rfc_probs[:, 1]\n",
    "# predict values\n",
    "y_xgbc_pred = gs_xgbc.predict(X_test)\n",
    "y_lr_pred = gs.predict(X_test)\n",
    "y_dtc_pred = gs_dtc.predict(X_test)\n",
    "y_rfc_pred = gs_rfc.predict(X_test)\n",
    "# calculate precision and recall for each threshold\n",
    "xgbc_precision, xgbc_recall, _ = precision_recall_curve(y_test, xgbc_probs)\n",
    "lr_precision, lr_recall, _ = precision_recall_curve(y_test, lr_probs)\n",
    "dtc_precision, dtc_recall, _ = precision_recall_curve(y_test, dtc_probs)\n",
    "rfc_precision, rfc_recall, _ = precision_recall_curve(y_test, rfc_probs)\n",
    "# calculate scores\n",
    "xgbc_f1 = f1_score(y_test, y_xgbc_pred)\n",
    "lr_f1 = f1_score(y_test, y_lr_pred)\n",
    "dtc_f1 = f1_score(y_test, y_dtc_pred)\n",
    "rfc_f1 = f1_score(y_test, y_rfc_pred)\n",
    "# summarize scores\n",
    "print('XGB: f1=%.3f' % (xgbc_f1))\n",
    "print('Logistic: f1=%.3f' % (lr_f1))\n",
    "print('DTC: f1=%.3f' % (dtc_f1))\n",
    "print('RFC: f1=%.3f' % (rfc_f1))\n",
    "# plot the precision-recall curves\n",
    "plt.plot(xgbc_recall, xgbc_precision, marker='.', label='XGB')\n",
    "plt.plot(lr_recall, lr_precision, marker='.', label='Logistic')\n",
    "plt.plot(dtc_recall, dtc_precision, marker='.', label='DTC')\n",
    "plt.plot(rfc_recall, rfc_precision, marker='.', label='RFC')\n",
    "# axis labels\n",
    "plt.xlabel('Recall')\n",
    "plt.ylabel('Precision')\n",
    "# show the legend\n",
    "plt.legend()\n",
    "# show the plot\n",
    "plt.show()"
   ]
  },
  {
   "cell_type": "code",
   "execution_count": null,
   "metadata": {},
   "outputs": [],
   "source": [
    "# We can see again, that RFC shows the best result, since the area under curve is the largest"
   ]
  },
  {
   "cell_type": "code",
   "execution_count": null,
   "metadata": {},
   "outputs": [],
   "source": [
    "# All my manipulations with models allowed me to create the ML model, that with appriximately 97% of accuracy can say if any \n",
    "# site is phishing or just a usual website. I don't think I'm the first one who solved this problem since this dataset is open\n",
    "# for already some years. But still it was a great lesson how to use data science and machine learning to solve such important\n",
    "# problems.\n",
    "# I think that this data I wiorked with was too much processed, probably If I had the original data with continious variables\n",
    "# I could get more accurate predictions\n",
    "# I suppose in real life this ML algorithms are already used as extensions or toolbars in browsers. "
   ]
  }
 ],
 "metadata": {
  "kernelspec": {
   "display_name": "Python 3",
   "language": "python",
   "name": "python3"
  },
  "language_info": {
   "codemirror_mode": {
    "name": "ipython",
    "version": 3
   },
   "file_extension": ".py",
   "mimetype": "text/x-python",
   "name": "python",
   "nbconvert_exporter": "python",
   "pygments_lexer": "ipython3",
   "version": "3.7.2"
  }
 },
 "nbformat": 4,
 "nbformat_minor": 2
}
